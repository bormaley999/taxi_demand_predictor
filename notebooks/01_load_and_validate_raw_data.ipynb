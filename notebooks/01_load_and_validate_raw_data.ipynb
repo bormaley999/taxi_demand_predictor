{
 "cells": [
  {
   "attachments": {},
   "cell_type": "markdown",
   "metadata": {},
   "source": [
    "### Notebook for data load and EDA"
   ]
  },
  {
   "cell_type": "code",
   "execution_count": 2,
   "metadata": {},
   "outputs": [],
   "source": [
    "# libs import\n",
    "from pathlib import Path\n",
    "import pandas as pd\n",
    "import numpy as np\n",
    "import matplotlib.pyplot as plt\n",
    "import seaborn as sns\n",
    "import os\n",
    "import sys\n",
    "import warnings\n",
    "import lux\n",
    "\n",
    "# remove warnings\n",
    "warnings.filterwarnings('ignore')\n",
    "\n",
    "# retina display -> delete this line if you don't have a retina display\n",
    "%config InlineBackend.figure_format = 'retina'"
   ]
  },
  {
   "cell_type": "code",
   "execution_count": 4,
   "metadata": {},
   "outputs": [],
   "source": [
    "# data path and import \n",
    "import requests\n",
    "\n",
    "def download_one_file_of_raw_data(year: int, month: int) -> Path:\n",
    "    \"\"\"Downloads one file of raw data from the website of the TLC Trip Record Data and saves it to the data/raw folder.\n",
    "    Args:\n",
    "        year (int): The year of the data to download.\n",
    "        month (int): The month of the data to download.\n",
    "    Returns:\n",
    "        Path: The path to the downloaded file.\n",
    "    \"\"\"\n",
    "    # create the url\n",
    "    url = f\"https://d37ci6vzurychx.cloudfront.net/trip-data/yellow_tripdata_{year}-{month:02d}.parquet\"\n",
    "    response = requests.get(url)\n",
    "\n",
    "    if response.status_code == 200:\n",
    "        # create the path to the file\n",
    "        path = f'../data/raw/rides_{year}-{month:02d}.parquet'\n",
    "        open(path, 'wb').write(response.content)\n",
    "        return Path(path) #return path\n",
    "    else:\n",
    "        print(f\"Could not download file {url}\")\n",
    "        return None\n"
   ]
  },
  {
   "cell_type": "code",
   "execution_count": 5,
   "metadata": {},
   "outputs": [
    {
     "data": {
      "text/plain": [
       "PosixPath('../data/raw/rides_2022-01.parquet')"
      ]
     },
     "execution_count": 5,
     "metadata": {},
     "output_type": "execute_result"
    }
   ],
   "source": [
    "# call the function\n",
    "download_one_file_of_raw_data(2022, 1)"
   ]
  },
  {
   "cell_type": "code",
   "execution_count": 7,
   "metadata": {},
   "outputs": [
    {
     "data": {
      "application/vnd.jupyter.widget-view+json": {
       "model_id": "067f4bc1968a4588b3b7564e64350625",
       "version_major": 2,
       "version_minor": 0
      },
      "text/plain": [
       "Button(description='Toggle Pandas/Lux', layout=Layout(top='5px', width='140px'), style=ButtonStyle())"
      ]
     },
     "metadata": {},
     "output_type": "display_data"
    },
    {
     "data": {
      "application/vnd.jupyter.widget-view+json": {
       "model_id": "3b3123fdad974853aad8a2369ebfb715",
       "version_major": 2,
       "version_minor": 0
      },
      "text/plain": [
       "Output()"
      ]
     },
     "metadata": {},
     "output_type": "display_data"
    }
   ],
   "source": [
    "# read the file into a pandas dataframe\n",
    "rides = pd.read_parquet('../data/raw/rides_2022-01.parquet')\n",
    "rides.head()"
   ]
  },
  {
   "cell_type": "code",
   "execution_count": 8,
   "metadata": {},
   "outputs": [],
   "source": [
    "# we need to know the pickup time and drop off location\n",
    "rides = rides[['tpep_pickup_datetime', 'PULocationID']]"
   ]
  },
  {
   "cell_type": "code",
   "execution_count": null,
   "metadata": {},
   "outputs": [],
   "source": [
    "# rename the columns\n",
    "rides.rename(columns={\n",
    "    'tpep_pickup_datetime': 'pickup_datetime', \n",
    "    'PULocationID': 'pickup_location_id'}, \n",
    "    inplace=True)\n",
    "#rides.head()"
   ]
  },
  {
   "cell_type": "code",
   "execution_count": null,
   "metadata": {},
   "outputs": [],
   "source": []
  }
 ],
 "metadata": {
  "kernelspec": {
   "display_name": "Python 3",
   "language": "python",
   "name": "python3"
  },
  "language_info": {
   "codemirror_mode": {
    "name": "ipython",
    "version": 3
   },
   "file_extension": ".py",
   "mimetype": "text/x-python",
   "name": "python",
   "nbconvert_exporter": "python",
   "pygments_lexer": "ipython3",
   "version": "3.9.6"
  },
  "orig_nbformat": 4
 },
 "nbformat": 4,
 "nbformat_minor": 2
}
