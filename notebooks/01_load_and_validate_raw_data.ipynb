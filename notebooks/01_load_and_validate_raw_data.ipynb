{
 "cells": [
  {
   "attachments": {},
   "cell_type": "markdown",
   "metadata": {},
   "source": [
    "### Notebook for data load and EDA"
   ]
  },
  {
   "cell_type": "code",
   "execution_count": 3,
   "metadata": {},
   "outputs": [],
   "source": [
    "# libs import\n",
    "from pathlib import Path\n",
    "import pandas as pd\n",
    "import numpy as np\n",
    "import matplotlib.pyplot as plt\n",
    "import seaborn as sns\n",
    "import os\n",
    "import sys\n",
    "import warnings\n",
    "import lux\n",
    "import tqdm\n",
    "import requests\n",
    "from typing import List, Optional\n",
    "import plotly.express as px\n",
    "\n",
    "# remove warnings\n",
    "warnings.filterwarnings('ignore')\n",
    "\n",
    "# retina display -> delete this line if you don't have a retina display\n",
    "%config InlineBackend.figure_format = 'retina'"
   ]
  },
  {
   "cell_type": "code",
   "execution_count": 4,
   "metadata": {},
   "outputs": [],
   "source": [
    "# data path and import \n",
    "import requests\n",
    "\n",
    "def download_one_file_of_raw_data(year: int, month: int) -> Path:\n",
    "    \"\"\"Downloads one file of raw data from the website of the TLC Trip Record Data and saves it to the data/raw folder.\n",
    "    Args:\n",
    "        year (int): The year of the data to download.\n",
    "        month (int): The month of the data to download.\n",
    "    Returns:\n",
    "        Path: The path to the downloaded file.\n",
    "    \"\"\"\n",
    "    # create the url\n",
    "    url = f\"https://d37ci6vzurychx.cloudfront.net/trip-data/yellow_tripdata_{year}-{month:02d}.parquet\"\n",
    "    response = requests.get(url)\n",
    "\n",
    "    if response.status_code == 200:\n",
    "        # create the path to the file\n",
    "        path = f'../data/raw/rides_{year}-{month:02d}.parquet'\n",
    "        open(path, 'wb').write(response.content)\n",
    "        return path #return Path(path) \n",
    "    else:\n",
    "        print(f\"Could not download file {url}\")\n",
    "        return None\n"
   ]
  },
  {
   "cell_type": "code",
   "execution_count": 5,
   "metadata": {},
   "outputs": [
    {
     "data": {
      "text/plain": [
       "'../data/raw/rides_2022-01.parquet'"
      ]
     },
     "execution_count": 5,
     "metadata": {},
     "output_type": "execute_result"
    }
   ],
   "source": [
    "# call the function\n",
    "download_one_file_of_raw_data(2022, 1)"
   ]
  },
  {
   "cell_type": "code",
   "execution_count": 6,
   "metadata": {},
   "outputs": [
    {
     "data": {
      "application/vnd.jupyter.widget-view+json": {
       "model_id": "bc948e04dc7646b0b1cd9d887f614aa7",
       "version_major": 2,
       "version_minor": 0
      },
      "text/plain": [
       "Button(description='Toggle Pandas/Lux', layout=Layout(top='5px', width='140px'), style=ButtonStyle())"
      ]
     },
     "metadata": {},
     "output_type": "display_data"
    },
    {
     "data": {
      "application/vnd.jupyter.widget-view+json": {
       "model_id": "01e4bea2e7374563bd7a247bdd08c556",
       "version_major": 2,
       "version_minor": 0
      },
      "text/plain": [
       "Output()"
      ]
     },
     "metadata": {},
     "output_type": "display_data"
    }
   ],
   "source": [
    "# read the file into a pandas dataframe\n",
    "rides = pd.read_parquet('../data/raw/rides_2022-01.parquet')\n",
    "rides.head()"
   ]
  },
  {
   "cell_type": "code",
   "execution_count": 7,
   "metadata": {},
   "outputs": [],
   "source": [
    "# we need to know the pickup time and drop off location\n",
    "rides = rides[['tpep_pickup_datetime', 'PULocationID']]"
   ]
  },
  {
   "cell_type": "code",
   "execution_count": 8,
   "metadata": {},
   "outputs": [],
   "source": [
    "# rename the columns\n",
    "rides.rename(columns={\n",
    "    'tpep_pickup_datetime': 'pickup_datetime', \n",
    "    'PULocationID': 'pickup_location_id'}, \n",
    "    inplace=True)\n",
    "#rides.head()"
   ]
  },
  {
   "cell_type": "code",
   "execution_count": 9,
   "metadata": {},
   "outputs": [
    {
     "name": "stdout",
     "output_type": "stream",
     "text": [
      "count                 2463931\n",
      "unique                1423522\n",
      "top       2022-01-26 07:57:00\n",
      "freq                       12\n",
      "first     2008-12-31 22:23:09\n",
      "last      2022-05-18 20:41:57\n",
      "Name: pickup_datetime, dtype: object\n"
     ]
    }
   ],
   "source": [
    "# describe the data\n",
    "rides.pickup_datetime.describe()"
   ]
  },
  {
   "cell_type": "code",
   "execution_count": 10,
   "metadata": {},
   "outputs": [
    {
     "name": "stdout",
     "output_type": "stream",
     "text": [
      "count                 2463879\n",
      "unique                1423471\n",
      "top       2022-01-26 07:57:00\n",
      "freq                       12\n",
      "first     2022-01-01 00:00:08\n",
      "last      2022-01-31 23:59:58\n",
      "Name: pickup_datetime, dtype: object\n"
     ]
    }
   ],
   "source": [
    "# remove the rides that are not in 2022\n",
    "# we need only Jan 2022\n",
    "rides = rides[rides.pickup_datetime >= '2022-01-01']\n",
    "rides = rides[rides.pickup_datetime <  '2022-02-01']\n",
    "rides.pickup_datetime.describe()"
   ]
  },
  {
   "cell_type": "code",
   "execution_count": 11,
   "metadata": {},
   "outputs": [],
   "source": [
    "# save the data\n",
    "rides.to_parquet('../data/transformed/validated_rides_2022-01.parquet')"
   ]
  },
  {
   "cell_type": "code",
   "execution_count": 12,
   "metadata": {},
   "outputs": [
    {
     "data": {
      "application/vnd.jupyter.widget-view+json": {
       "model_id": "e1af575dcc454effb5e0bc46a7b4a717",
       "version_major": 2,
       "version_minor": 0
      },
      "text/plain": [
       "Button(description='Toggle Pandas/Lux', layout=Layout(top='5px', width='140px'), style=ButtonStyle())"
      ]
     },
     "metadata": {},
     "output_type": "display_data"
    },
    {
     "data": {
      "application/vnd.jupyter.widget-view+json": {
       "model_id": "994983f9850544d5872674b6218985c8",
       "version_major": 2,
       "version_minor": 0
      },
      "text/plain": [
       "Output()"
      ]
     },
     "metadata": {},
     "output_type": "display_data"
    }
   ],
   "source": [
    "# read transformed data\n",
    "rides = pd.read_parquet('../data/transformed/validated_rides_2022-01.parquet')\n",
    "rides.head()"
   ]
  },
  {
   "cell_type": "code",
   "execution_count": null,
   "metadata": {},
   "outputs": [],
   "source": []
  },
  {
   "cell_type": "code",
   "execution_count": null,
   "metadata": {},
   "outputs": [],
   "source": []
  },
  {
   "cell_type": "code",
   "execution_count": null,
   "metadata": {},
   "outputs": [],
   "source": []
  }
 ],
 "metadata": {
  "kernelspec": {
   "display_name": "Python 3",
   "language": "python",
   "name": "python3"
  },
  "language_info": {
   "codemirror_mode": {
    "name": "ipython",
    "version": 3
   },
   "file_extension": ".py",
   "mimetype": "text/x-python",
   "name": "python",
   "nbconvert_exporter": "python",
   "pygments_lexer": "ipython3",
   "version": "3.9.6"
  },
  "orig_nbformat": 4
 },
 "nbformat": 4,
 "nbformat_minor": 2
}
